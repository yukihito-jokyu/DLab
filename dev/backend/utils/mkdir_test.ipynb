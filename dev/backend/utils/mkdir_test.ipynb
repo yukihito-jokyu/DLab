{
 "cells": [
  {
   "cell_type": "code",
   "execution_count": 36,
   "metadata": {},
   "outputs": [
    {
     "name": "stdout",
     "output_type": "stream",
     "text": [
      "{'message': 'successfully'}\n"
     ]
    }
   ],
   "source": [
    "import os\n",
    "\n",
    "# ユーザーのディレクトリを作成する関数\n",
    "def create_user_directory(data):\n",
    "\n",
    "    user_id = data[\"user_id\"]\n",
    "\n",
    "    base_path = \"../user\"\n",
    "    user_path = os.path.join(base_path, user_id)\n",
    "    \n",
    "    # ユーザーディレクトリを作成（すでに存在する場合は何もしない）\n",
    "    try:\n",
    "        os.makedirs(user_path, exist_ok=True)\n",
    "        os.makedirs(os.path.join(user_path, \"CartPole\"), exist_ok=True)\n",
    "        os.makedirs(os.path.join(user_path, \"FlappyBird\"), exist_ok=True)\n",
    "        return {\"message\": \"successfully\"}\n",
    "    except Exception as e:\n",
    "        return {\"message\": str(e)}\n",
    "\n",
    "# 使用例\n",
    "data = {\n",
    "    \"user_id\": \"example_user_id\"\n",
    "}\n",
    "\n",
    "response = create_user_directory(data)\n",
    "print(response)"
   ]
  },
  {
   "cell_type": "code",
   "execution_count": 37,
   "metadata": {},
   "outputs": [
    {
     "name": "stdout",
     "output_type": "stream",
     "text": [
      "{'message': 'successfully'}\n"
     ]
    }
   ],
   "source": [
    "import os\n",
    "\n",
    "# プロジェクトディレクトリを作成する関数\n",
    "def create_project_directory(data):\n",
    "\n",
    "    user_id = data[\"user_id\"]\n",
    "    project_name = data[\"project_name\"]\n",
    "\n",
    "    base_path = \"../user\"\n",
    "    user_path = os.path.join(base_path, user_id)\n",
    "    project_path = os.path.join(user_path, project_name)\n",
    "    \n",
    "    try:\n",
    "        os.makedirs(project_path, exist_ok=True)\n",
    "        return {\"message\": \"successfully\"}\n",
    "    except Exception as e:\n",
    "        return {\"message\": str(e)}\n",
    "\n",
    "# 使用例\n",
    "data = {\n",
    "    \"user_id\": \"example_user_id\",\n",
    "    \"project_name\": \"example_project\"\n",
    "}\n",
    "response = create_project_directory(data)\n",
    "print(response)\n"
   ]
  },
  {
   "cell_type": "code",
   "execution_count": 38,
   "metadata": {},
   "outputs": [
    {
     "name": "stdout",
     "output_type": "stream",
     "text": [
      "{'message': 'successfully'}\n"
     ]
    }
   ],
   "source": [
    "import os\n",
    "\n",
    "def create_model_directory_from_dict(data):\n",
    "\n",
    "    user_id = data[\"user_id\"]\n",
    "    project_name = data[\"project_name\"]\n",
    "    model_id = data[\"model_id\"]\n",
    "\n",
    "    base_path = \"../user\"\n",
    "    project_path = os.path.join(base_path, user_id, project_name)\n",
    "    model_path = os.path.join(project_path, model_id)\n",
    "    \n",
    "    try:\n",
    "        os.makedirs(model_path, exist_ok=True)\n",
    "        return {\"message\": \"successfully\"}\n",
    "    except Exception as e:\n",
    "        return {\"error\": str(e)}\n",
    "\n",
    "# 使用例\n",
    "data = {\n",
    "    \"user_id\": \"example_user_id\",\n",
    "    \"project_name\": \"example_project\",\n",
    "    \"model_id\": \"example_model\"\n",
    "}\n",
    "response = create_model_directory_from_dict(data)\n",
    "print(response)\n"
   ]
  },
  {
   "cell_type": "code",
   "execution_count": null,
   "metadata": {},
   "outputs": [],
   "source": []
  }
 ],
 "metadata": {
  "kernelspec": {
   "display_name": "Python 3",
   "language": "python",
   "name": "python3"
  },
  "language_info": {
   "codemirror_mode": {
    "name": "ipython",
    "version": 3
   },
   "file_extension": ".py",
   "mimetype": "text/x-python",
   "name": "python",
   "nbconvert_exporter": "python",
   "pygments_lexer": "ipython3",
   "version": "3.11.9"
  }
 },
 "nbformat": 4,
 "nbformat_minor": 2
}
